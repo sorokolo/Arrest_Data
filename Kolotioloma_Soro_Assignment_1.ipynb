{
  "nbformat": 4,
  "nbformat_minor": 0,
  "metadata": {
    "colab": {
      "name": "Kolotioloma_Soro_Assignment_1",
      "provenance": []
    },
    "kernelspec": {
      "name": "python3",
      "display_name": "Python 3"
    },
    "accelerator": "GPU"
  },
  "cells": [
    {
      "cell_type": "code",
      "metadata": {
        "id": "Alm5t2XC3Hw_",
        "outputId": "48ecc1f4-8f0a-4b9f-a227-1a22892a1677",
        "colab": {
          "base_uri": "https://localhost:8080/",
          "height": 34
        }
      },
      "source": [
        "from google.colab import drive\n",
        "drive.mount(\"/content/drive\")"
      ],
      "execution_count": 557,
      "outputs": [
        {
          "output_type": "stream",
          "text": [
            "Drive already mounted at /content/drive; to attempt to forcibly remount, call drive.mount(\"/content/drive\", force_remount=True).\n"
          ],
          "name": "stdout"
        }
      ]
    },
    {
      "cell_type": "code",
      "metadata": {
        "id": "Apo9ku6otlZB"
      },
      "source": [
        "# Importing the important librairies\n",
        "import numpy as np\n",
        "import pandas as pd\n",
        "from math import sqrt, radians, cos, sin, asin\n",
        "import datetime\n",
        "from sklearn.linear_model import LinearRegression"
      ],
      "execution_count": 558,
      "outputs": []
    },
    {
      "cell_type": "code",
      "metadata": {
        "id": "oFFbZInyvFbV",
        "outputId": "26180a6d-690a-490a-86c6-47749688086a",
        "colab": {
          "base_uri": "https://localhost:8080/",
          "height": 71
        }
      },
      "source": [
        "# Loading the dataset\n",
        "data = pd.read_csv('/content/drive/My Drive/Data_Science/Arrest_Data_from_2010_to_Present.csv')"
      ],
      "execution_count": 559,
      "outputs": [
        {
          "output_type": "stream",
          "text": [
            "/usr/local/lib/python3.6/dist-packages/IPython/core/interactiveshell.py:2718: DtypeWarning: Columns (0) have mixed types.Specify dtype option on import or set low_memory=False.\n",
            "  interactivity=interactivity, compiler=compiler, result=result)\n"
          ],
          "name": "stderr"
        }
      ]
    },
    {
      "cell_type": "code",
      "metadata": {
        "id": "WyEB_vCh2-Xj",
        "outputId": "d85914da-ed81-434c-9945-1725c3f8a2e5",
        "colab": {
          "base_uri": "https://localhost:8080/",
          "height": 34
        }
      },
      "source": [
        "data.shape"
      ],
      "execution_count": 560,
      "outputs": [
        {
          "output_type": "execute_result",
          "data": {
            "text/plain": [
              "(1227521, 17)"
            ]
          },
          "metadata": {
            "tags": []
          },
          "execution_count": 560
        }
      ]
    },
    {
      "cell_type": "code",
      "metadata": {
        "id": "zBdg3q3GvcZ4",
        "outputId": "9d29154f-31fb-4710-a3a9-2bd930acbc8d",
        "colab": {
          "base_uri": "https://localhost:8080/",
          "height": 360
        }
      },
      "source": [
        "data.head()"
      ],
      "execution_count": 561,
      "outputs": [
        {
          "output_type": "execute_result",
          "data": {
            "text/html": [
              "<div>\n",
              "<style scoped>\n",
              "    .dataframe tbody tr th:only-of-type {\n",
              "        vertical-align: middle;\n",
              "    }\n",
              "\n",
              "    .dataframe tbody tr th {\n",
              "        vertical-align: top;\n",
              "    }\n",
              "\n",
              "    .dataframe thead th {\n",
              "        text-align: right;\n",
              "    }\n",
              "</style>\n",
              "<table border=\"1\" class=\"dataframe\">\n",
              "  <thead>\n",
              "    <tr style=\"text-align: right;\">\n",
              "      <th></th>\n",
              "      <th>Report ID</th>\n",
              "      <th>Arrest Date</th>\n",
              "      <th>Time</th>\n",
              "      <th>Area ID</th>\n",
              "      <th>Area Name</th>\n",
              "      <th>Reporting District</th>\n",
              "      <th>Age</th>\n",
              "      <th>Sex Code</th>\n",
              "      <th>Descent Code</th>\n",
              "      <th>Charge Group Code</th>\n",
              "      <th>Charge Group Description</th>\n",
              "      <th>Arrest Type Code</th>\n",
              "      <th>Charge</th>\n",
              "      <th>Charge Description</th>\n",
              "      <th>Address</th>\n",
              "      <th>Cross Street</th>\n",
              "      <th>Location</th>\n",
              "    </tr>\n",
              "  </thead>\n",
              "  <tbody>\n",
              "    <tr>\n",
              "      <th>0</th>\n",
              "      <td>4248313</td>\n",
              "      <td>02/24/2015</td>\n",
              "      <td>1310.0</td>\n",
              "      <td>20.0</td>\n",
              "      <td>Olympic</td>\n",
              "      <td>2022.0</td>\n",
              "      <td>37.0</td>\n",
              "      <td>M</td>\n",
              "      <td>H</td>\n",
              "      <td>5.0</td>\n",
              "      <td>Burglary</td>\n",
              "      <td>F</td>\n",
              "      <td>459PC</td>\n",
              "      <td>BURGLARY</td>\n",
              "      <td>5TH</td>\n",
              "      <td>WILTON</td>\n",
              "      <td>(34.0653, -118.314)</td>\n",
              "    </tr>\n",
              "    <tr>\n",
              "      <th>1</th>\n",
              "      <td>191811472</td>\n",
              "      <td>05/03/2019</td>\n",
              "      <td>1700.0</td>\n",
              "      <td>18.0</td>\n",
              "      <td>Southeast</td>\n",
              "      <td>1802.0</td>\n",
              "      <td>23.0</td>\n",
              "      <td>F</td>\n",
              "      <td>B</td>\n",
              "      <td>NaN</td>\n",
              "      <td>NaN</td>\n",
              "      <td>M</td>\n",
              "      <td>653.22 PC</td>\n",
              "      <td>NaN</td>\n",
              "      <td>91ST</td>\n",
              "      <td>FIGUEROA</td>\n",
              "      <td>(33.9543, -118.2827)</td>\n",
              "    </tr>\n",
              "    <tr>\n",
              "      <th>2</th>\n",
              "      <td>4254777</td>\n",
              "      <td>02/26/2015</td>\n",
              "      <td>2010.0</td>\n",
              "      <td>19.0</td>\n",
              "      <td>Mission</td>\n",
              "      <td>1985.0</td>\n",
              "      <td>22.0</td>\n",
              "      <td>M</td>\n",
              "      <td>H</td>\n",
              "      <td>6.0</td>\n",
              "      <td>Larceny</td>\n",
              "      <td>M</td>\n",
              "      <td>459.5PC</td>\n",
              "      <td>SHOPLIFTING</td>\n",
              "      <td>8300    VAN NUYS                     BL</td>\n",
              "      <td>NaN</td>\n",
              "      <td>(34.2216, -118.4488)</td>\n",
              "    </tr>\n",
              "    <tr>\n",
              "      <th>3</th>\n",
              "      <td>5614161</td>\n",
              "      <td>04/29/2019</td>\n",
              "      <td>1040.0</td>\n",
              "      <td>8.0</td>\n",
              "      <td>West LA</td>\n",
              "      <td>842.0</td>\n",
              "      <td>41.0</td>\n",
              "      <td>M</td>\n",
              "      <td>H</td>\n",
              "      <td>3.0</td>\n",
              "      <td>Robbery</td>\n",
              "      <td>F</td>\n",
              "      <td>211PC</td>\n",
              "      <td>ROBBERY</td>\n",
              "      <td>11600    WILSHIRE                     BL</td>\n",
              "      <td>NaN</td>\n",
              "      <td>(34.0508, -118.4592)</td>\n",
              "    </tr>\n",
              "    <tr>\n",
              "      <th>4</th>\n",
              "      <td>5615197</td>\n",
              "      <td>04/30/2019</td>\n",
              "      <td>615.0</td>\n",
              "      <td>6.0</td>\n",
              "      <td>Hollywood</td>\n",
              "      <td>663.0</td>\n",
              "      <td>27.0</td>\n",
              "      <td>M</td>\n",
              "      <td>O</td>\n",
              "      <td>5.0</td>\n",
              "      <td>Burglary</td>\n",
              "      <td>F</td>\n",
              "      <td>459PC</td>\n",
              "      <td>BURGLARY</td>\n",
              "      <td>LA BREA</td>\n",
              "      <td>LEXINGTON</td>\n",
              "      <td>(34.0907, -118.3384)</td>\n",
              "    </tr>\n",
              "  </tbody>\n",
              "</table>\n",
              "</div>"
            ],
            "text/plain": [
              "   Report ID Arrest Date  ...  Cross Street              Location\n",
              "0    4248313  02/24/2015  ...        WILTON   (34.0653, -118.314)\n",
              "1  191811472  05/03/2019  ...      FIGUEROA  (33.9543, -118.2827)\n",
              "2    4254777  02/26/2015  ...           NaN  (34.2216, -118.4488)\n",
              "3    5614161  04/29/2019  ...           NaN  (34.0508, -118.4592)\n",
              "4    5615197  04/30/2019  ...     LEXINGTON  (34.0907, -118.3384)\n",
              "\n",
              "[5 rows x 17 columns]"
            ]
          },
          "metadata": {
            "tags": []
          },
          "execution_count": 561
        }
      ]
    },
    {
      "cell_type": "code",
      "metadata": {
        "id": "XB0RLXCU2A3q",
        "outputId": "d2975991-9d30-431a-a41c-a31db00f4f5b",
        "colab": {
          "base_uri": "https://localhost:8080/",
          "height": 34
        }
      },
      "source": [
        "data.shape"
      ],
      "execution_count": 562,
      "outputs": [
        {
          "output_type": "execute_result",
          "data": {
            "text/plain": [
              "(1227521, 17)"
            ]
          },
          "metadata": {
            "tags": []
          },
          "execution_count": 562
        }
      ]
    },
    {
      "cell_type": "code",
      "metadata": {
        "id": "BagbSPxM5hfa",
        "outputId": "393edcb4-7d85-464b-c7c0-52881f1429d9",
        "colab": {
          "base_uri": "https://localhost:8080/",
          "height": 323
        }
      },
      "source": [
        "data.isnull().sum()"
      ],
      "execution_count": 563,
      "outputs": [
        {
          "output_type": "execute_result",
          "data": {
            "text/plain": [
              "Report ID                        0\n",
              "Arrest Date                      4\n",
              "Time                           199\n",
              "Area ID                          4\n",
              "Area Name                        4\n",
              "Reporting District               4\n",
              "Age                              4\n",
              "Sex Code                         4\n",
              "Descent Code                     4\n",
              "Charge Group Code            87570\n",
              "Charge Group Description     88006\n",
              "Arrest Type Code                 5\n",
              "Charge                           5\n",
              "Charge Description           87534\n",
              "Address                          5\n",
              "Cross Street                520187\n",
              "Location                         5\n",
              "dtype: int64"
            ]
          },
          "metadata": {
            "tags": []
          },
          "execution_count": 563
        }
      ]
    },
    {
      "cell_type": "code",
      "metadata": {
        "id": "L4R7jm8D7vCm",
        "outputId": "8bdae32b-7b9d-4fd3-9370-fc2da90bcc7e",
        "colab": {
          "base_uri": "https://localhost:8080/",
          "height": 323
        }
      },
      "source": [
        "data.dtypes"
      ],
      "execution_count": 564,
      "outputs": [
        {
          "output_type": "execute_result",
          "data": {
            "text/plain": [
              "Report ID                    object\n",
              "Arrest Date                  object\n",
              "Time                        float64\n",
              "Area ID                     float64\n",
              "Area Name                    object\n",
              "Reporting District          float64\n",
              "Age                         float64\n",
              "Sex Code                     object\n",
              "Descent Code                 object\n",
              "Charge Group Code           float64\n",
              "Charge Group Description     object\n",
              "Arrest Type Code             object\n",
              "Charge                       object\n",
              "Charge Description           object\n",
              "Address                      object\n",
              "Cross Street                 object\n",
              "Location                     object\n",
              "dtype: object"
            ]
          },
          "metadata": {
            "tags": []
          },
          "execution_count": 564
        }
      ]
    },
    {
      "cell_type": "markdown",
      "metadata": {
        "id": "miMmrye-iSJk"
      },
      "source": [
        "#**How many bookings of arrestees were made in 2018 ?**"
      ]
    },
    {
      "cell_type": "code",
      "metadata": {
        "id": "quYleSvF5lk4"
      },
      "source": [
        "# Retrieves the year from the date column\n",
        "data['year'] = pd.DatetimeIndex(data['Arrest Date']).year"
      ],
      "execution_count": 565,
      "outputs": []
    },
    {
      "cell_type": "code",
      "metadata": {
        "id": "MEXVwao0j4MC"
      },
      "source": [
        "# Counts the number of bookings of arrestees per year by counting the area id\n",
        "booking_of_arestees = data.groupby(['year'])['Area ID'].count().reset_index()"
      ],
      "execution_count": 566,
      "outputs": []
    },
    {
      "cell_type": "code",
      "metadata": {
        "id": "_qP0o3J2DOv5",
        "outputId": "7195c5db-60df-400a-b655-b59e32587357",
        "colab": {
          "base_uri": "https://localhost:8080/",
          "height": 34
        }
      },
      "source": [
        "print('The number of booking of arrestees in 2018 is ' + str(booking_of_arestees['Area ID'][booking_of_arestees['year'] == 2018.0].tolist()[0]))"
      ],
      "execution_count": 567,
      "outputs": [
        {
          "output_type": "stream",
          "text": [
            "The number of booking of arrestees in 2018 is 42381\n"
          ],
          "name": "stdout"
        }
      ]
    },
    {
      "cell_type": "markdown",
      "metadata": {
        "id": "09EpycFAi6nN"
      },
      "source": [
        "#**How many bookings of arrestees were made in the area with the most arrests in 2018?**"
      ]
    },
    {
      "cell_type": "code",
      "metadata": {
        "id": "ba0sbV03i4Ns"
      },
      "source": [
        "# Selects the dataset only containing information for 2018\n",
        "dataset_2018 = data[data['year'] == 2018.0]"
      ],
      "execution_count": 568,
      "outputs": []
    },
    {
      "cell_type": "code",
      "metadata": {
        "id": "JwC5FhBCMITc",
        "outputId": "8e1e15d7-7d1b-49f2-f68d-ab2e146d1e3b",
        "colab": {
          "base_uri": "https://localhost:8080/",
          "height": 34
        }
      },
      "source": [
        "dataset_2018['Arrest Type Code'].unique()"
      ],
      "execution_count": 569,
      "outputs": [
        {
          "output_type": "execute_result",
          "data": {
            "text/plain": [
              "array(['F', 'M', 'I', 'O', 'D', nan], dtype=object)"
            ]
          },
          "metadata": {
            "tags": []
          },
          "execution_count": 569
        }
      ]
    },
    {
      "cell_type": "code",
      "metadata": {
        "id": "JhUK2yuOixH5",
        "outputId": "e8b8acb8-dc72-4298-e525-22c98634dd0f",
        "colab": {
          "base_uri": "https://localhost:8080/",
          "height": 233
        }
      },
      "source": [
        "dataset_2018.head(2)"
      ],
      "execution_count": 570,
      "outputs": [
        {
          "output_type": "execute_result",
          "data": {
            "text/html": [
              "<div>\n",
              "<style scoped>\n",
              "    .dataframe tbody tr th:only-of-type {\n",
              "        vertical-align: middle;\n",
              "    }\n",
              "\n",
              "    .dataframe tbody tr th {\n",
              "        vertical-align: top;\n",
              "    }\n",
              "\n",
              "    .dataframe thead th {\n",
              "        text-align: right;\n",
              "    }\n",
              "</style>\n",
              "<table border=\"1\" class=\"dataframe\">\n",
              "  <thead>\n",
              "    <tr style=\"text-align: right;\">\n",
              "      <th></th>\n",
              "      <th>Report ID</th>\n",
              "      <th>Arrest Date</th>\n",
              "      <th>Time</th>\n",
              "      <th>Area ID</th>\n",
              "      <th>Area Name</th>\n",
              "      <th>Reporting District</th>\n",
              "      <th>Age</th>\n",
              "      <th>Sex Code</th>\n",
              "      <th>Descent Code</th>\n",
              "      <th>Charge Group Code</th>\n",
              "      <th>Charge Group Description</th>\n",
              "      <th>Arrest Type Code</th>\n",
              "      <th>Charge</th>\n",
              "      <th>Charge Description</th>\n",
              "      <th>Address</th>\n",
              "      <th>Cross Street</th>\n",
              "      <th>Location</th>\n",
              "      <th>year</th>\n",
              "    </tr>\n",
              "  </thead>\n",
              "  <tbody>\n",
              "    <tr>\n",
              "      <th>165</th>\n",
              "      <td>5213460</td>\n",
              "      <td>01/24/2018</td>\n",
              "      <td>1930.0</td>\n",
              "      <td>6.0</td>\n",
              "      <td>Hollywood</td>\n",
              "      <td>668.0</td>\n",
              "      <td>29.0</td>\n",
              "      <td>M</td>\n",
              "      <td>H</td>\n",
              "      <td>10.0</td>\n",
              "      <td>Fraud/Embezzlement</td>\n",
              "      <td>F</td>\n",
              "      <td>530.5(A)PC</td>\n",
              "      <td>GET CREDIT/ETC OTHER'S ID</td>\n",
              "      <td>ST ANDREWS</td>\n",
              "      <td>FOUNTAIN</td>\n",
              "      <td>(34.0949, -118.3109)</td>\n",
              "      <td>2018.0</td>\n",
              "    </tr>\n",
              "    <tr>\n",
              "      <th>166</th>\n",
              "      <td>5257944</td>\n",
              "      <td>03/15/2018</td>\n",
              "      <td>310.0</td>\n",
              "      <td>7.0</td>\n",
              "      <td>Wilshire</td>\n",
              "      <td>743.0</td>\n",
              "      <td>33.0</td>\n",
              "      <td>F</td>\n",
              "      <td>O</td>\n",
              "      <td>1.0</td>\n",
              "      <td>Homicide</td>\n",
              "      <td>F</td>\n",
              "      <td>191.5(B)PC</td>\n",
              "      <td>VEH MANSLAUGHTR/OPER VESSEL DUI &amp; DUR FEL</td>\n",
              "      <td>OLYMPIC</td>\n",
              "      <td>MASSELIN</td>\n",
              "      <td>(34.0574, -118.3547)</td>\n",
              "      <td>2018.0</td>\n",
              "    </tr>\n",
              "  </tbody>\n",
              "</table>\n",
              "</div>"
            ],
            "text/plain": [
              "    Report ID Arrest Date    Time  ...  Cross Street              Location    year\n",
              "165   5213460  01/24/2018  1930.0  ...      FOUNTAIN  (34.0949, -118.3109)  2018.0\n",
              "166   5257944  03/15/2018   310.0  ...      MASSELIN  (34.0574, -118.3547)  2018.0\n",
              "\n",
              "[2 rows x 18 columns]"
            ]
          },
          "metadata": {
            "tags": []
          },
          "execution_count": 570
        }
      ]
    },
    {
      "cell_type": "code",
      "metadata": {
        "id": "EYBjS5CdiZfm",
        "outputId": "d089ed46-cccd-471b-ff5f-97256867ca56",
        "colab": {
          "base_uri": "https://localhost:8080/",
          "height": 700
        }
      },
      "source": [
        "# Groups by Area name to get the area with the highest count\n",
        "data_area = dataset_2018.groupby(['Area Name'])['Area ID'].count().sort_values().reset_index()\n",
        "data_area"
      ],
      "execution_count": 571,
      "outputs": [
        {
          "output_type": "execute_result",
          "data": {
            "text/html": [
              "<div>\n",
              "<style scoped>\n",
              "    .dataframe tbody tr th:only-of-type {\n",
              "        vertical-align: middle;\n",
              "    }\n",
              "\n",
              "    .dataframe tbody tr th {\n",
              "        vertical-align: top;\n",
              "    }\n",
              "\n",
              "    .dataframe thead th {\n",
              "        text-align: right;\n",
              "    }\n",
              "</style>\n",
              "<table border=\"1\" class=\"dataframe\">\n",
              "  <thead>\n",
              "    <tr style=\"text-align: right;\">\n",
              "      <th></th>\n",
              "      <th>Area Name</th>\n",
              "      <th>Area ID</th>\n",
              "    </tr>\n",
              "  </thead>\n",
              "  <tbody>\n",
              "    <tr>\n",
              "      <th>0</th>\n",
              "      <td>Wilshire</td>\n",
              "      <td>615</td>\n",
              "    </tr>\n",
              "    <tr>\n",
              "      <th>1</th>\n",
              "      <td>Southeast</td>\n",
              "      <td>764</td>\n",
              "    </tr>\n",
              "    <tr>\n",
              "      <th>2</th>\n",
              "      <td>Foothill</td>\n",
              "      <td>801</td>\n",
              "    </tr>\n",
              "    <tr>\n",
              "      <th>3</th>\n",
              "      <td>West Valley</td>\n",
              "      <td>955</td>\n",
              "    </tr>\n",
              "    <tr>\n",
              "      <th>4</th>\n",
              "      <td>Hollenbeck</td>\n",
              "      <td>995</td>\n",
              "    </tr>\n",
              "    <tr>\n",
              "      <th>5</th>\n",
              "      <td>Topanga</td>\n",
              "      <td>1208</td>\n",
              "    </tr>\n",
              "    <tr>\n",
              "      <th>6</th>\n",
              "      <td>Devonshire</td>\n",
              "      <td>1336</td>\n",
              "    </tr>\n",
              "    <tr>\n",
              "      <th>7</th>\n",
              "      <td>Olympic</td>\n",
              "      <td>1350</td>\n",
              "    </tr>\n",
              "    <tr>\n",
              "      <th>8</th>\n",
              "      <td>West LA</td>\n",
              "      <td>1415</td>\n",
              "    </tr>\n",
              "    <tr>\n",
              "      <th>9</th>\n",
              "      <td>77th Street</td>\n",
              "      <td>1457</td>\n",
              "    </tr>\n",
              "    <tr>\n",
              "      <th>10</th>\n",
              "      <td>Northeast</td>\n",
              "      <td>1579</td>\n",
              "    </tr>\n",
              "    <tr>\n",
              "      <th>11</th>\n",
              "      <td>Harbor</td>\n",
              "      <td>1628</td>\n",
              "    </tr>\n",
              "    <tr>\n",
              "      <th>12</th>\n",
              "      <td>Newton</td>\n",
              "      <td>1638</td>\n",
              "    </tr>\n",
              "    <tr>\n",
              "      <th>13</th>\n",
              "      <td>Mission</td>\n",
              "      <td>1701</td>\n",
              "    </tr>\n",
              "    <tr>\n",
              "      <th>14</th>\n",
              "      <td>Southwest</td>\n",
              "      <td>1768</td>\n",
              "    </tr>\n",
              "    <tr>\n",
              "      <th>15</th>\n",
              "      <td>N Hollywood</td>\n",
              "      <td>2052</td>\n",
              "    </tr>\n",
              "    <tr>\n",
              "      <th>16</th>\n",
              "      <td>Van Nuys</td>\n",
              "      <td>2332</td>\n",
              "    </tr>\n",
              "    <tr>\n",
              "      <th>17</th>\n",
              "      <td>Pacific</td>\n",
              "      <td>3545</td>\n",
              "    </tr>\n",
              "    <tr>\n",
              "      <th>18</th>\n",
              "      <td>Rampart</td>\n",
              "      <td>4243</td>\n",
              "    </tr>\n",
              "    <tr>\n",
              "      <th>19</th>\n",
              "      <td>Hollywood</td>\n",
              "      <td>5378</td>\n",
              "    </tr>\n",
              "    <tr>\n",
              "      <th>20</th>\n",
              "      <td>Central</td>\n",
              "      <td>5621</td>\n",
              "    </tr>\n",
              "  </tbody>\n",
              "</table>\n",
              "</div>"
            ],
            "text/plain": [
              "      Area Name  Area ID\n",
              "0      Wilshire      615\n",
              "1     Southeast      764\n",
              "2      Foothill      801\n",
              "3   West Valley      955\n",
              "4    Hollenbeck      995\n",
              "5       Topanga     1208\n",
              "6    Devonshire     1336\n",
              "7       Olympic     1350\n",
              "8       West LA     1415\n",
              "9   77th Street     1457\n",
              "10    Northeast     1579\n",
              "11       Harbor     1628\n",
              "12       Newton     1638\n",
              "13      Mission     1701\n",
              "14    Southwest     1768\n",
              "15  N Hollywood     2052\n",
              "16     Van Nuys     2332\n",
              "17      Pacific     3545\n",
              "18      Rampart     4243\n",
              "19    Hollywood     5378\n",
              "20      Central     5621"
            ]
          },
          "metadata": {
            "tags": []
          },
          "execution_count": 571
        }
      ]
    },
    {
      "cell_type": "code",
      "metadata": {
        "id": "pLB_N9i284hh",
        "outputId": "88fd96c8-3f4a-44db-b2c4-18444ac7d6f2",
        "colab": {
          "base_uri": "https://localhost:8080/",
          "height": 34
        }
      },
      "source": [
        "print('The highest number of arrests is '+str(data_area['Area ID'][data_area['Area Name'] == 'Central'].tolist()[0])+' and was made in the area called Central')"
      ],
      "execution_count": 572,
      "outputs": [
        {
          "output_type": "stream",
          "text": [
            "The highest number of arrests is 5621 and was made in the area called Central\n"
          ],
          "name": "stdout"
        }
      ]
    },
    {
      "cell_type": "markdown",
      "metadata": {
        "id": "NrNyLg_gvbLS"
      },
      "source": [
        "# **Finding the average age of arrestees per each charge group**"
      ]
    },
    {
      "cell_type": "code",
      "metadata": {
        "id": "ESREPtIq86Jr"
      },
      "source": [
        "# Calculates the age average by average group\n",
        "average_list = dataset_2018.groupby(['Charge Group Description'])['Age'].mean().reset_index()"
      ],
      "execution_count": 573,
      "outputs": []
    },
    {
      "cell_type": "code",
      "metadata": {
        "id": "1JDlEcCcyyvb"
      },
      "source": [
        "# Dropps the two columns that are not needed\n",
        "average_list = average_list[average_list['Charge Group Description']!= 'Pre-Delinquency']\n",
        "average_list = average_list[average_list['Charge Group Description'] != 'Non-Criminal Detention']"
      ],
      "execution_count": 574,
      "outputs": []
    },
    {
      "cell_type": "code",
      "metadata": {
        "id": "3sxjj8KiwUyA",
        "outputId": "6e79394f-8e25-4223-fd6e-866d54eda126",
        "colab": {
          "base_uri": "https://localhost:8080/",
          "height": 855
        }
      },
      "source": [
        "# Below is list of the averages of the ages by Charge Group\n",
        "average_list"
      ],
      "execution_count": 575,
      "outputs": [
        {
          "output_type": "execute_result",
          "data": {
            "text/html": [
              "<div>\n",
              "<style scoped>\n",
              "    .dataframe tbody tr th:only-of-type {\n",
              "        vertical-align: middle;\n",
              "    }\n",
              "\n",
              "    .dataframe tbody tr th {\n",
              "        vertical-align: top;\n",
              "    }\n",
              "\n",
              "    .dataframe thead th {\n",
              "        text-align: right;\n",
              "    }\n",
              "</style>\n",
              "<table border=\"1\" class=\"dataframe\">\n",
              "  <thead>\n",
              "    <tr style=\"text-align: right;\">\n",
              "      <th></th>\n",
              "      <th>Charge Group Description</th>\n",
              "      <th>Age</th>\n",
              "    </tr>\n",
              "  </thead>\n",
              "  <tbody>\n",
              "    <tr>\n",
              "      <th>0</th>\n",
              "      <td>Against Family/Child</td>\n",
              "      <td>36.950355</td>\n",
              "    </tr>\n",
              "    <tr>\n",
              "      <th>1</th>\n",
              "      <td>Aggravated Assault</td>\n",
              "      <td>33.907359</td>\n",
              "    </tr>\n",
              "    <tr>\n",
              "      <th>2</th>\n",
              "      <td>Burglary</td>\n",
              "      <td>30.366755</td>\n",
              "    </tr>\n",
              "    <tr>\n",
              "      <th>3</th>\n",
              "      <td>Disorderly Conduct</td>\n",
              "      <td>41.924290</td>\n",
              "    </tr>\n",
              "    <tr>\n",
              "      <th>4</th>\n",
              "      <td>Disturbing the Peace</td>\n",
              "      <td>39.727273</td>\n",
              "    </tr>\n",
              "    <tr>\n",
              "      <th>5</th>\n",
              "      <td>Driving Under Influence</td>\n",
              "      <td>34.428291</td>\n",
              "    </tr>\n",
              "    <tr>\n",
              "      <th>6</th>\n",
              "      <td>Drunkeness</td>\n",
              "      <td>44.219972</td>\n",
              "    </tr>\n",
              "    <tr>\n",
              "      <th>7</th>\n",
              "      <td>Federal Offenses</td>\n",
              "      <td>34.600000</td>\n",
              "    </tr>\n",
              "    <tr>\n",
              "      <th>8</th>\n",
              "      <td>Forgery/Counterfeit</td>\n",
              "      <td>35.066667</td>\n",
              "    </tr>\n",
              "    <tr>\n",
              "      <th>9</th>\n",
              "      <td>Fraud/Embezzlement</td>\n",
              "      <td>35.689076</td>\n",
              "    </tr>\n",
              "    <tr>\n",
              "      <th>10</th>\n",
              "      <td>Gambling</td>\n",
              "      <td>40.557047</td>\n",
              "    </tr>\n",
              "    <tr>\n",
              "      <th>11</th>\n",
              "      <td>Homicide</td>\n",
              "      <td>30.896552</td>\n",
              "    </tr>\n",
              "    <tr>\n",
              "      <th>12</th>\n",
              "      <td>Larceny</td>\n",
              "      <td>32.725796</td>\n",
              "    </tr>\n",
              "    <tr>\n",
              "      <th>13</th>\n",
              "      <td>Liquor Laws</td>\n",
              "      <td>42.540955</td>\n",
              "    </tr>\n",
              "    <tr>\n",
              "      <th>14</th>\n",
              "      <td>Miscellaneous Other Violations</td>\n",
              "      <td>36.252076</td>\n",
              "    </tr>\n",
              "    <tr>\n",
              "      <th>15</th>\n",
              "      <td>Miscellaneous Other Violatio{</td>\n",
              "      <td>17.000000</td>\n",
              "    </tr>\n",
              "    <tr>\n",
              "      <th>16</th>\n",
              "      <td>Moving Traffic Violations</td>\n",
              "      <td>33.085622</td>\n",
              "    </tr>\n",
              "    <tr>\n",
              "      <th>17</th>\n",
              "      <td>Narcotic Drug Laws</td>\n",
              "      <td>36.097954</td>\n",
              "    </tr>\n",
              "    <tr>\n",
              "      <th>19</th>\n",
              "      <td>Other Assaults</td>\n",
              "      <td>33.451139</td>\n",
              "    </tr>\n",
              "    <tr>\n",
              "      <th>21</th>\n",
              "      <td>Prostitution/Allied</td>\n",
              "      <td>31.620470</td>\n",
              "    </tr>\n",
              "    <tr>\n",
              "      <th>22</th>\n",
              "      <td>Rape</td>\n",
              "      <td>36.203704</td>\n",
              "    </tr>\n",
              "    <tr>\n",
              "      <th>23</th>\n",
              "      <td>Receive Stolen Property</td>\n",
              "      <td>33.687500</td>\n",
              "    </tr>\n",
              "    <tr>\n",
              "      <th>24</th>\n",
              "      <td>Robbery</td>\n",
              "      <td>27.538739</td>\n",
              "    </tr>\n",
              "    <tr>\n",
              "      <th>25</th>\n",
              "      <td>Sex (except rape/prst)</td>\n",
              "      <td>36.555838</td>\n",
              "    </tr>\n",
              "    <tr>\n",
              "      <th>26</th>\n",
              "      <td>Vehicle Theft</td>\n",
              "      <td>30.095624</td>\n",
              "    </tr>\n",
              "    <tr>\n",
              "      <th>27</th>\n",
              "      <td>Weapon (carry/poss)</td>\n",
              "      <td>29.477178</td>\n",
              "    </tr>\n",
              "  </tbody>\n",
              "</table>\n",
              "</div>"
            ],
            "text/plain": [
              "          Charge Group Description        Age\n",
              "0             Against Family/Child  36.950355\n",
              "1               Aggravated Assault  33.907359\n",
              "2                         Burglary  30.366755\n",
              "3               Disorderly Conduct  41.924290\n",
              "4             Disturbing the Peace  39.727273\n",
              "5          Driving Under Influence  34.428291\n",
              "6                       Drunkeness  44.219972\n",
              "7                 Federal Offenses  34.600000\n",
              "8              Forgery/Counterfeit  35.066667\n",
              "9               Fraud/Embezzlement  35.689076\n",
              "10                        Gambling  40.557047\n",
              "11                        Homicide  30.896552\n",
              "12                         Larceny  32.725796\n",
              "13                     Liquor Laws  42.540955\n",
              "14  Miscellaneous Other Violations  36.252076\n",
              "15   Miscellaneous Other Violatio{  17.000000\n",
              "16       Moving Traffic Violations  33.085622\n",
              "17              Narcotic Drug Laws  36.097954\n",
              "19                  Other Assaults  33.451139\n",
              "21             Prostitution/Allied  31.620470\n",
              "22                            Rape  36.203704\n",
              "23         Receive Stolen Property  33.687500\n",
              "24                         Robbery  27.538739\n",
              "25          Sex (except rape/prst)  36.555838\n",
              "26                   Vehicle Theft  30.095624\n",
              "27             Weapon (carry/poss)  29.477178"
            ]
          },
          "metadata": {
            "tags": []
          },
          "execution_count": 575
        }
      ]
    },
    {
      "cell_type": "markdown",
      "metadata": {
        "id": "RWEKmLXOAMbQ"
      },
      "source": [
        "# **95% quantile of the age of the arrestee**"
      ]
    },
    {
      "cell_type": "code",
      "metadata": {
        "id": "gdXzEVeezcjx",
        "outputId": "b9fa0c63-e997-47ed-f1b4-7c79160d960b",
        "colab": {
          "base_uri": "https://localhost:8080/",
          "height": 267
        }
      },
      "source": [
        "# Selecting the dataframes using the conditions\n",
        "array = ['Vehicle Theft','Robbery','Burglary','Receive Stolen Property']\n",
        "df_for_quantile = dataset_2018[dataset_2018['Charge Group Description'].isin(array)]\n",
        "df_for_quantile.head(2)"
      ],
      "execution_count": 576,
      "outputs": [
        {
          "output_type": "execute_result",
          "data": {
            "text/html": [
              "<div>\n",
              "<style scoped>\n",
              "    .dataframe tbody tr th:only-of-type {\n",
              "        vertical-align: middle;\n",
              "    }\n",
              "\n",
              "    .dataframe tbody tr th {\n",
              "        vertical-align: top;\n",
              "    }\n",
              "\n",
              "    .dataframe thead th {\n",
              "        text-align: right;\n",
              "    }\n",
              "</style>\n",
              "<table border=\"1\" class=\"dataframe\">\n",
              "  <thead>\n",
              "    <tr style=\"text-align: right;\">\n",
              "      <th></th>\n",
              "      <th>Report ID</th>\n",
              "      <th>Arrest Date</th>\n",
              "      <th>Time</th>\n",
              "      <th>Area ID</th>\n",
              "      <th>Area Name</th>\n",
              "      <th>Reporting District</th>\n",
              "      <th>Age</th>\n",
              "      <th>Sex Code</th>\n",
              "      <th>Descent Code</th>\n",
              "      <th>Charge Group Code</th>\n",
              "      <th>Charge Group Description</th>\n",
              "      <th>Arrest Type Code</th>\n",
              "      <th>Charge</th>\n",
              "      <th>Charge Description</th>\n",
              "      <th>Address</th>\n",
              "      <th>Cross Street</th>\n",
              "      <th>Location</th>\n",
              "      <th>year</th>\n",
              "    </tr>\n",
              "  </thead>\n",
              "  <tbody>\n",
              "    <tr>\n",
              "      <th>178</th>\n",
              "      <td>5449454</td>\n",
              "      <td>10/15/2018</td>\n",
              "      <td>2330.0</td>\n",
              "      <td>1.0</td>\n",
              "      <td>Central</td>\n",
              "      <td>157.0</td>\n",
              "      <td>43.0</td>\n",
              "      <td>M</td>\n",
              "      <td>H</td>\n",
              "      <td>7.0</td>\n",
              "      <td>Vehicle Theft</td>\n",
              "      <td>F</td>\n",
              "      <td>10851(A)VC</td>\n",
              "      <td>TAKE VEHICLE W/O OWNER'S CONSENT</td>\n",
              "      <td>SPRING</td>\n",
              "      <td>5TH</td>\n",
              "      <td>(34.0416, -118.244)</td>\n",
              "      <td>2018.0</td>\n",
              "    </tr>\n",
              "    <tr>\n",
              "      <th>179</th>\n",
              "      <td>5449463</td>\n",
              "      <td>10/15/2018</td>\n",
              "      <td>2330.0</td>\n",
              "      <td>1.0</td>\n",
              "      <td>Central</td>\n",
              "      <td>154.0</td>\n",
              "      <td>32.0</td>\n",
              "      <td>M</td>\n",
              "      <td>H</td>\n",
              "      <td>7.0</td>\n",
              "      <td>Vehicle Theft</td>\n",
              "      <td>F</td>\n",
              "      <td>10851(A)VC</td>\n",
              "      <td>TAKE VEHICLE W/O OWNER'S CONSENT</td>\n",
              "      <td>SPRING                       ST</td>\n",
              "      <td>6TH</td>\n",
              "      <td>(34.046, -118.2509)</td>\n",
              "      <td>2018.0</td>\n",
              "    </tr>\n",
              "  </tbody>\n",
              "</table>\n",
              "</div>"
            ],
            "text/plain": [
              "    Report ID Arrest Date    Time  ...  Cross Street             Location    year\n",
              "178   5449454  10/15/2018  2330.0  ...           5TH  (34.0416, -118.244)  2018.0\n",
              "179   5449463  10/15/2018  2330.0  ...           6TH  (34.046, -118.2509)  2018.0\n",
              "\n",
              "[2 rows x 18 columns]"
            ]
          },
          "metadata": {
            "tags": []
          },
          "execution_count": 576
        }
      ]
    },
    {
      "cell_type": "code",
      "metadata": {
        "id": "EY9SW4zFDGb4"
      },
      "source": [
        "# Calculating the 95% quantile\n",
        "quantile = df_for_quantile['Age'].quantile(.95)"
      ],
      "execution_count": 577,
      "outputs": []
    },
    {
      "cell_type": "code",
      "metadata": {
        "id": "BfcoPLSxHBmy",
        "outputId": "2c3db1fb-00cc-46a9-9d5e-1b4ea3e126a8",
        "colab": {
          "base_uri": "https://localhost:8080/",
          "height": 34
        }
      },
      "source": [
        "print(\"The quantile for the is \" + str(quantile))"
      ],
      "execution_count": 578,
      "outputs": [
        {
          "output_type": "stream",
          "text": [
            "The quantile for the is 52.0\n"
          ],
          "name": "stdout"
        }
      ]
    },
    {
      "cell_type": "markdown",
      "metadata": {
        "id": "_Y2nz786HRXh"
      },
      "source": [
        "# **Felony arrest incidents have been dropping over the years**"
      ]
    },
    {
      "cell_type": "code",
      "metadata": {
        "id": "EsuGCbVpM3NH",
        "outputId": "9a279e49-e6cd-4374-929a-d5c7d69d07d9",
        "colab": {
          "base_uri": "https://localhost:8080/",
          "height": 199
        }
      },
      "source": [
        "data.head(2)"
      ],
      "execution_count": 579,
      "outputs": [
        {
          "output_type": "execute_result",
          "data": {
            "text/html": [
              "<div>\n",
              "<style scoped>\n",
              "    .dataframe tbody tr th:only-of-type {\n",
              "        vertical-align: middle;\n",
              "    }\n",
              "\n",
              "    .dataframe tbody tr th {\n",
              "        vertical-align: top;\n",
              "    }\n",
              "\n",
              "    .dataframe thead th {\n",
              "        text-align: right;\n",
              "    }\n",
              "</style>\n",
              "<table border=\"1\" class=\"dataframe\">\n",
              "  <thead>\n",
              "    <tr style=\"text-align: right;\">\n",
              "      <th></th>\n",
              "      <th>Report ID</th>\n",
              "      <th>Arrest Date</th>\n",
              "      <th>Time</th>\n",
              "      <th>Area ID</th>\n",
              "      <th>Area Name</th>\n",
              "      <th>Reporting District</th>\n",
              "      <th>Age</th>\n",
              "      <th>Sex Code</th>\n",
              "      <th>Descent Code</th>\n",
              "      <th>Charge Group Code</th>\n",
              "      <th>Charge Group Description</th>\n",
              "      <th>Arrest Type Code</th>\n",
              "      <th>Charge</th>\n",
              "      <th>Charge Description</th>\n",
              "      <th>Address</th>\n",
              "      <th>Cross Street</th>\n",
              "      <th>Location</th>\n",
              "      <th>year</th>\n",
              "    </tr>\n",
              "  </thead>\n",
              "  <tbody>\n",
              "    <tr>\n",
              "      <th>0</th>\n",
              "      <td>4248313</td>\n",
              "      <td>02/24/2015</td>\n",
              "      <td>1310.0</td>\n",
              "      <td>20.0</td>\n",
              "      <td>Olympic</td>\n",
              "      <td>2022.0</td>\n",
              "      <td>37.0</td>\n",
              "      <td>M</td>\n",
              "      <td>H</td>\n",
              "      <td>5.0</td>\n",
              "      <td>Burglary</td>\n",
              "      <td>F</td>\n",
              "      <td>459PC</td>\n",
              "      <td>BURGLARY</td>\n",
              "      <td>5TH</td>\n",
              "      <td>WILTON</td>\n",
              "      <td>(34.0653, -118.314)</td>\n",
              "      <td>2015.0</td>\n",
              "    </tr>\n",
              "    <tr>\n",
              "      <th>1</th>\n",
              "      <td>191811472</td>\n",
              "      <td>05/03/2019</td>\n",
              "      <td>1700.0</td>\n",
              "      <td>18.0</td>\n",
              "      <td>Southeast</td>\n",
              "      <td>1802.0</td>\n",
              "      <td>23.0</td>\n",
              "      <td>F</td>\n",
              "      <td>B</td>\n",
              "      <td>NaN</td>\n",
              "      <td>NaN</td>\n",
              "      <td>M</td>\n",
              "      <td>653.22 PC</td>\n",
              "      <td>NaN</td>\n",
              "      <td>91ST</td>\n",
              "      <td>FIGUEROA</td>\n",
              "      <td>(33.9543, -118.2827)</td>\n",
              "      <td>2019.0</td>\n",
              "    </tr>\n",
              "  </tbody>\n",
              "</table>\n",
              "</div>"
            ],
            "text/plain": [
              "   Report ID Arrest Date    Time  ...  Cross Street              Location    year\n",
              "0    4248313  02/24/2015  1310.0  ...        WILTON   (34.0653, -118.314)  2015.0\n",
              "1  191811472  05/03/2019  1700.0  ...      FIGUEROA  (33.9543, -118.2827)  2019.0\n",
              "\n",
              "[2 rows x 18 columns]"
            ]
          },
          "metadata": {
            "tags": []
          },
          "execution_count": 579
        }
      ]
    },
    {
      "cell_type": "code",
      "metadata": {
        "id": "FAUNKrq5I-Em",
        "outputId": "f82f0328-3b40-44e5-d381-ebfee37465e7",
        "colab": {
          "base_uri": "https://localhost:8080/",
          "height": 359
        }
      },
      "source": [
        "# We will filter the dataset only taking felony crimes represented by Arrest Type Code F\n",
        "Felony_data_set = data[data['Arrest Type Code'] == 'F']\n",
        "\n",
        "Felony_list = Felony_data_set.groupby(['year'])['Area ID'].count().reset_index()\n",
        "Felony_list"
      ],
      "execution_count": 580,
      "outputs": [
        {
          "output_type": "execute_result",
          "data": {
            "text/html": [
              "<div>\n",
              "<style scoped>\n",
              "    .dataframe tbody tr th:only-of-type {\n",
              "        vertical-align: middle;\n",
              "    }\n",
              "\n",
              "    .dataframe tbody tr th {\n",
              "        vertical-align: top;\n",
              "    }\n",
              "\n",
              "    .dataframe thead th {\n",
              "        text-align: right;\n",
              "    }\n",
              "</style>\n",
              "<table border=\"1\" class=\"dataframe\">\n",
              "  <thead>\n",
              "    <tr style=\"text-align: right;\">\n",
              "      <th></th>\n",
              "      <th>year</th>\n",
              "      <th>Area ID</th>\n",
              "    </tr>\n",
              "  </thead>\n",
              "  <tbody>\n",
              "    <tr>\n",
              "      <th>0</th>\n",
              "      <td>2010.0</td>\n",
              "      <td>51155</td>\n",
              "    </tr>\n",
              "    <tr>\n",
              "      <th>1</th>\n",
              "      <td>2011.0</td>\n",
              "      <td>49830</td>\n",
              "    </tr>\n",
              "    <tr>\n",
              "      <th>2</th>\n",
              "      <td>2012.0</td>\n",
              "      <td>50610</td>\n",
              "    </tr>\n",
              "    <tr>\n",
              "      <th>3</th>\n",
              "      <td>2013.0</td>\n",
              "      <td>47880</td>\n",
              "    </tr>\n",
              "    <tr>\n",
              "      <th>4</th>\n",
              "      <td>2014.0</td>\n",
              "      <td>45878</td>\n",
              "    </tr>\n",
              "    <tr>\n",
              "      <th>5</th>\n",
              "      <td>2015.0</td>\n",
              "      <td>35709</td>\n",
              "    </tr>\n",
              "    <tr>\n",
              "      <th>6</th>\n",
              "      <td>2016.0</td>\n",
              "      <td>36880</td>\n",
              "    </tr>\n",
              "    <tr>\n",
              "      <th>7</th>\n",
              "      <td>2017.0</td>\n",
              "      <td>35973</td>\n",
              "    </tr>\n",
              "    <tr>\n",
              "      <th>8</th>\n",
              "      <td>2018.0</td>\n",
              "      <td>6308</td>\n",
              "    </tr>\n",
              "    <tr>\n",
              "      <th>9</th>\n",
              "      <td>2019.0</td>\n",
              "      <td>19425</td>\n",
              "    </tr>\n",
              "  </tbody>\n",
              "</table>\n",
              "</div>"
            ],
            "text/plain": [
              "     year  Area ID\n",
              "0  2010.0    51155\n",
              "1  2011.0    49830\n",
              "2  2012.0    50610\n",
              "3  2013.0    47880\n",
              "4  2014.0    45878\n",
              "5  2015.0    35709\n",
              "6  2016.0    36880\n",
              "7  2017.0    35973\n",
              "8  2018.0     6308\n",
              "9  2019.0    19425"
            ]
          },
          "metadata": {
            "tags": []
          },
          "execution_count": 580
        }
      ]
    },
    {
      "cell_type": "code",
      "metadata": {
        "id": "EMdPQDPeN8oO",
        "outputId": "cc8dcdc6-3285-4542-97bc-ce771df293e4",
        "colab": {
          "base_uri": "https://localhost:8080/",
          "height": 34
        }
      },
      "source": [
        "X = np.array([2010, 2011, 2012, 2013, 2014, 2015, 2016, 2017, 2018])\n",
        "X = np.expand_dims(X, axis=1)\n",
        "y = np.array([51155, 49830, 50610, 47880, 45878, 35709, 36880, 35973, 6308])\n",
        "\n",
        "model = LinearRegression()\n",
        "model.fit(X, y)\n",
        "X_test = [2019]\n",
        "y_pred = model.predict([X_test])\n",
        "print(\"The estimated value number of felony for 2019 is \"+str(y_pred))"
      ],
      "execution_count": 581,
      "outputs": [
        {
          "output_type": "stream",
          "text": [
            "The estimated value number of felony for 2019 is [18308.94444445]\n"
          ],
          "name": "stdout"
        }
      ]
    },
    {
      "cell_type": "markdown",
      "metadata": {
        "id": "C3KHQ-8al3KJ"
      },
      "source": [
        "# **How many arrest incidents occurred within 2 km from the Bradbury Building in 2018?**"
      ]
    },
    {
      "cell_type": "code",
      "metadata": {
        "id": "XLaExJ92nbr_"
      },
      "source": [
        "# Distance between two points\n",
        "def findDistance(latitude1, longitude1, latitude2, longitude2):\n",
        "    radius = 6371\n",
        "  \n",
        "    # Converting degrees into radians\n",
        "    latitude1 = radians(latitude1)\n",
        "    latitude2 = radians(latitude2)\n",
        "    longitude1 = radians(longitude1)\n",
        "    longitude2 = radians(longitude2)\n",
        "    \n",
        "    longdiff = longitude2 - longitude1\n",
        "    latdiff = latitude2 - latitude1\n",
        "    \n",
        "    f = sin(latdiff / 2)**2 + cos(latitude1) * cos(latitude2) * sin(longdiff / 2)**2\n",
        "    \n",
        "    c = asin(sqrt(f)) * 2\n",
        "    \n",
        "    return radius*c"
      ],
      "execution_count": 582,
      "outputs": []
    },
    {
      "cell_type": "code",
      "metadata": {
        "id": "GtPQH1Ndz6P6"
      },
      "source": [
        "# Generating the total distance between the points\n",
        "distance = []\n",
        "location = data['Location']\n",
        "for i in range(len(location)):\n",
        "    row = location[i]\n",
        "    if (type(row) == str):\n",
        "        text = row[1:-1]\n",
        "        array = text.split(\",\")\n",
        "        latitude = float(array[0])\n",
        "        longitude = float(array[1])\n",
        "        dis = findDistance(34.050536, -118.247861, latitude, longitude)\n",
        "        distance.append(dis)\n",
        "    else:\n",
        "        distance.append(np.nan)"
      ],
      "execution_count": 583,
      "outputs": []
    },
    {
      "cell_type": "code",
      "metadata": {
        "id": "EorVi1wO0LPd",
        "outputId": "ba5502bc-aee6-44d5-e902-7cd3aaec6ba5",
        "colab": {
          "base_uri": "https://localhost:8080/",
          "height": 360
        }
      },
      "source": [
        "data.insert(17, \"distance\", distance, True)\n",
        "data.head()"
      ],
      "execution_count": 584,
      "outputs": [
        {
          "output_type": "execute_result",
          "data": {
            "text/html": [
              "<div>\n",
              "<style scoped>\n",
              "    .dataframe tbody tr th:only-of-type {\n",
              "        vertical-align: middle;\n",
              "    }\n",
              "\n",
              "    .dataframe tbody tr th {\n",
              "        vertical-align: top;\n",
              "    }\n",
              "\n",
              "    .dataframe thead th {\n",
              "        text-align: right;\n",
              "    }\n",
              "</style>\n",
              "<table border=\"1\" class=\"dataframe\">\n",
              "  <thead>\n",
              "    <tr style=\"text-align: right;\">\n",
              "      <th></th>\n",
              "      <th>Report ID</th>\n",
              "      <th>Arrest Date</th>\n",
              "      <th>Time</th>\n",
              "      <th>Area ID</th>\n",
              "      <th>Area Name</th>\n",
              "      <th>Reporting District</th>\n",
              "      <th>Age</th>\n",
              "      <th>Sex Code</th>\n",
              "      <th>Descent Code</th>\n",
              "      <th>Charge Group Code</th>\n",
              "      <th>Charge Group Description</th>\n",
              "      <th>Arrest Type Code</th>\n",
              "      <th>Charge</th>\n",
              "      <th>Charge Description</th>\n",
              "      <th>Address</th>\n",
              "      <th>Cross Street</th>\n",
              "      <th>Location</th>\n",
              "      <th>distance</th>\n",
              "      <th>year</th>\n",
              "    </tr>\n",
              "  </thead>\n",
              "  <tbody>\n",
              "    <tr>\n",
              "      <th>0</th>\n",
              "      <td>4248313</td>\n",
              "      <td>02/24/2015</td>\n",
              "      <td>1310.0</td>\n",
              "      <td>20.0</td>\n",
              "      <td>Olympic</td>\n",
              "      <td>2022.0</td>\n",
              "      <td>37.0</td>\n",
              "      <td>M</td>\n",
              "      <td>H</td>\n",
              "      <td>5.0</td>\n",
              "      <td>Burglary</td>\n",
              "      <td>F</td>\n",
              "      <td>459PC</td>\n",
              "      <td>BURGLARY</td>\n",
              "      <td>5TH</td>\n",
              "      <td>WILTON</td>\n",
              "      <td>(34.0653, -118.314)</td>\n",
              "      <td>6.310144</td>\n",
              "      <td>2015.0</td>\n",
              "    </tr>\n",
              "    <tr>\n",
              "      <th>1</th>\n",
              "      <td>191811472</td>\n",
              "      <td>05/03/2019</td>\n",
              "      <td>1700.0</td>\n",
              "      <td>18.0</td>\n",
              "      <td>Southeast</td>\n",
              "      <td>1802.0</td>\n",
              "      <td>23.0</td>\n",
              "      <td>F</td>\n",
              "      <td>B</td>\n",
              "      <td>NaN</td>\n",
              "      <td>NaN</td>\n",
              "      <td>M</td>\n",
              "      <td>653.22 PC</td>\n",
              "      <td>NaN</td>\n",
              "      <td>91ST</td>\n",
              "      <td>FIGUEROA</td>\n",
              "      <td>(33.9543, -118.2827)</td>\n",
              "      <td>11.172483</td>\n",
              "      <td>2019.0</td>\n",
              "    </tr>\n",
              "    <tr>\n",
              "      <th>2</th>\n",
              "      <td>4254777</td>\n",
              "      <td>02/26/2015</td>\n",
              "      <td>2010.0</td>\n",
              "      <td>19.0</td>\n",
              "      <td>Mission</td>\n",
              "      <td>1985.0</td>\n",
              "      <td>22.0</td>\n",
              "      <td>M</td>\n",
              "      <td>H</td>\n",
              "      <td>6.0</td>\n",
              "      <td>Larceny</td>\n",
              "      <td>M</td>\n",
              "      <td>459.5PC</td>\n",
              "      <td>SHOPLIFTING</td>\n",
              "      <td>8300    VAN NUYS                     BL</td>\n",
              "      <td>NaN</td>\n",
              "      <td>(34.2216, -118.4488)</td>\n",
              "      <td>26.529891</td>\n",
              "      <td>2015.0</td>\n",
              "    </tr>\n",
              "    <tr>\n",
              "      <th>3</th>\n",
              "      <td>5614161</td>\n",
              "      <td>04/29/2019</td>\n",
              "      <td>1040.0</td>\n",
              "      <td>8.0</td>\n",
              "      <td>West LA</td>\n",
              "      <td>842.0</td>\n",
              "      <td>41.0</td>\n",
              "      <td>M</td>\n",
              "      <td>H</td>\n",
              "      <td>3.0</td>\n",
              "      <td>Robbery</td>\n",
              "      <td>F</td>\n",
              "      <td>211PC</td>\n",
              "      <td>ROBBERY</td>\n",
              "      <td>11600    WILSHIRE                     BL</td>\n",
              "      <td>NaN</td>\n",
              "      <td>(34.0508, -118.4592)</td>\n",
              "      <td>19.470628</td>\n",
              "      <td>2019.0</td>\n",
              "    </tr>\n",
              "    <tr>\n",
              "      <th>4</th>\n",
              "      <td>5615197</td>\n",
              "      <td>04/30/2019</td>\n",
              "      <td>615.0</td>\n",
              "      <td>6.0</td>\n",
              "      <td>Hollywood</td>\n",
              "      <td>663.0</td>\n",
              "      <td>27.0</td>\n",
              "      <td>M</td>\n",
              "      <td>O</td>\n",
              "      <td>5.0</td>\n",
              "      <td>Burglary</td>\n",
              "      <td>F</td>\n",
              "      <td>459PC</td>\n",
              "      <td>BURGLARY</td>\n",
              "      <td>LA BREA</td>\n",
              "      <td>LEXINGTON</td>\n",
              "      <td>(34.0907, -118.3384)</td>\n",
              "      <td>9.459945</td>\n",
              "      <td>2019.0</td>\n",
              "    </tr>\n",
              "  </tbody>\n",
              "</table>\n",
              "</div>"
            ],
            "text/plain": [
              "   Report ID Arrest Date    Time  ...              Location   distance    year\n",
              "0    4248313  02/24/2015  1310.0  ...   (34.0653, -118.314)   6.310144  2015.0\n",
              "1  191811472  05/03/2019  1700.0  ...  (33.9543, -118.2827)  11.172483  2019.0\n",
              "2    4254777  02/26/2015  2010.0  ...  (34.2216, -118.4488)  26.529891  2015.0\n",
              "3    5614161  04/29/2019  1040.0  ...  (34.0508, -118.4592)  19.470628  2019.0\n",
              "4    5615197  04/30/2019   615.0  ...  (34.0907, -118.3384)   9.459945  2019.0\n",
              "\n",
              "[5 rows x 19 columns]"
            ]
          },
          "metadata": {
            "tags": []
          },
          "execution_count": 584
        }
      ]
    },
    {
      "cell_type": "code",
      "metadata": {
        "id": "cJH4yP6u0eDu",
        "outputId": "a20d3aed-5d77-4143-bc04-55689e856a96",
        "colab": {
          "base_uri": "https://localhost:8080/",
          "height": 34
        }
      },
      "source": [
        "# Filtering only for 2018\n",
        "distance_df = data[data['year'] == 2018.0]\n",
        "\n",
        "# Filtering for Location different from (0,0)\n",
        "distance_df = distance_df[distance_df['Location'] != '(0,0)']\n",
        "print(\"The number of arrests that occurred within 2 km from the Bradbury Building in 2018 is \"+str(len(distance_df[distance_df['distance'] <= 2])))"
      ],
      "execution_count": 585,
      "outputs": [
        {
          "output_type": "stream",
          "text": [
            "The number of arrests that occurred within 2 km from the Bradbury Building in 2018 is 5913\n"
          ],
          "name": "stdout"
        }
      ]
    },
    {
      "cell_type": "markdown",
      "metadata": {
        "id": "eN1Q5jMD2LD1"
      },
      "source": [
        "# **How many arrest incidents were made per kilometer on Pico Boulevard during 2018?**"
      ]
    },
    {
      "cell_type": "code",
      "metadata": {
        "id": "XG4xgbSA2OLo",
        "outputId": "4aa5c500-3578-48da-ea33-31c4ffe3c353",
        "colab": {
          "base_uri": "https://localhost:8080/",
          "height": 233
        }
      },
      "source": [
        "# We will start with the 2018 dataset\n",
        "dataset_2018.head(2)"
      ],
      "execution_count": 586,
      "outputs": [
        {
          "output_type": "execute_result",
          "data": {
            "text/html": [
              "<div>\n",
              "<style scoped>\n",
              "    .dataframe tbody tr th:only-of-type {\n",
              "        vertical-align: middle;\n",
              "    }\n",
              "\n",
              "    .dataframe tbody tr th {\n",
              "        vertical-align: top;\n",
              "    }\n",
              "\n",
              "    .dataframe thead th {\n",
              "        text-align: right;\n",
              "    }\n",
              "</style>\n",
              "<table border=\"1\" class=\"dataframe\">\n",
              "  <thead>\n",
              "    <tr style=\"text-align: right;\">\n",
              "      <th></th>\n",
              "      <th>Report ID</th>\n",
              "      <th>Arrest Date</th>\n",
              "      <th>Time</th>\n",
              "      <th>Area ID</th>\n",
              "      <th>Area Name</th>\n",
              "      <th>Reporting District</th>\n",
              "      <th>Age</th>\n",
              "      <th>Sex Code</th>\n",
              "      <th>Descent Code</th>\n",
              "      <th>Charge Group Code</th>\n",
              "      <th>Charge Group Description</th>\n",
              "      <th>Arrest Type Code</th>\n",
              "      <th>Charge</th>\n",
              "      <th>Charge Description</th>\n",
              "      <th>Address</th>\n",
              "      <th>Cross Street</th>\n",
              "      <th>Location</th>\n",
              "      <th>year</th>\n",
              "    </tr>\n",
              "  </thead>\n",
              "  <tbody>\n",
              "    <tr>\n",
              "      <th>165</th>\n",
              "      <td>5213460</td>\n",
              "      <td>01/24/2018</td>\n",
              "      <td>1930.0</td>\n",
              "      <td>6.0</td>\n",
              "      <td>Hollywood</td>\n",
              "      <td>668.0</td>\n",
              "      <td>29.0</td>\n",
              "      <td>M</td>\n",
              "      <td>H</td>\n",
              "      <td>10.0</td>\n",
              "      <td>Fraud/Embezzlement</td>\n",
              "      <td>F</td>\n",
              "      <td>530.5(A)PC</td>\n",
              "      <td>GET CREDIT/ETC OTHER'S ID</td>\n",
              "      <td>ST ANDREWS</td>\n",
              "      <td>FOUNTAIN</td>\n",
              "      <td>(34.0949, -118.3109)</td>\n",
              "      <td>2018.0</td>\n",
              "    </tr>\n",
              "    <tr>\n",
              "      <th>166</th>\n",
              "      <td>5257944</td>\n",
              "      <td>03/15/2018</td>\n",
              "      <td>310.0</td>\n",
              "      <td>7.0</td>\n",
              "      <td>Wilshire</td>\n",
              "      <td>743.0</td>\n",
              "      <td>33.0</td>\n",
              "      <td>F</td>\n",
              "      <td>O</td>\n",
              "      <td>1.0</td>\n",
              "      <td>Homicide</td>\n",
              "      <td>F</td>\n",
              "      <td>191.5(B)PC</td>\n",
              "      <td>VEH MANSLAUGHTR/OPER VESSEL DUI &amp; DUR FEL</td>\n",
              "      <td>OLYMPIC</td>\n",
              "      <td>MASSELIN</td>\n",
              "      <td>(34.0574, -118.3547)</td>\n",
              "      <td>2018.0</td>\n",
              "    </tr>\n",
              "  </tbody>\n",
              "</table>\n",
              "</div>"
            ],
            "text/plain": [
              "    Report ID Arrest Date    Time  ...  Cross Street              Location    year\n",
              "165   5213460  01/24/2018  1930.0  ...      FOUNTAIN  (34.0949, -118.3109)  2018.0\n",
              "166   5257944  03/15/2018   310.0  ...      MASSELIN  (34.0574, -118.3547)  2018.0\n",
              "\n",
              "[2 rows x 18 columns]"
            ]
          },
          "metadata": {
            "tags": []
          },
          "execution_count": 586
        }
      ]
    },
    {
      "cell_type": "markdown",
      "metadata": {
        "id": "CPwHEzCTUd8U"
      },
      "source": [
        "#### ***Step 1 : Select the dataframe where the listed address mentions \"PICO\"***\n",
        "\n",
        "\n",
        "\n",
        "\n"
      ]
    },
    {
      "cell_type": "code",
      "metadata": {
        "id": "upJII0wYtyy4",
        "outputId": "9c3ccdd2-3602-4d3d-e431-44f2ec0fac62",
        "colab": {
          "base_uri": "https://localhost:8080/",
          "height": 34
        }
      },
      "source": [
        "# Selects the dataframe with no Na values\n",
        "dataset_2018 = dataset_2018[pd.notnull(dataset_2018['Address'])]\n",
        "\n",
        "# Selects the dataframe where the listed address mentions \"Pico\"\n",
        "data_frame_with_pico = dataset_2018[dataset_2018['Address'].str.contains(\"PICO\")]\n",
        "data_frame_with_pico.shape"
      ],
      "execution_count": 587,
      "outputs": [
        {
          "output_type": "execute_result",
          "data": {
            "text/plain": [
              "(269, 18)"
            ]
          },
          "metadata": {
            "tags": []
          },
          "execution_count": 587
        }
      ]
    },
    {
      "cell_type": "code",
      "metadata": {
        "id": "y9yCxLjjxLsz",
        "outputId": "050ab13a-4bb4-497a-f020-df715b0a95b7",
        "colab": {
          "base_uri": "https://localhost:8080/",
          "height": 250
        }
      },
      "source": [
        "data_frame_with_pico.head(2)"
      ],
      "execution_count": 588,
      "outputs": [
        {
          "output_type": "execute_result",
          "data": {
            "text/html": [
              "<div>\n",
              "<style scoped>\n",
              "    .dataframe tbody tr th:only-of-type {\n",
              "        vertical-align: middle;\n",
              "    }\n",
              "\n",
              "    .dataframe tbody tr th {\n",
              "        vertical-align: top;\n",
              "    }\n",
              "\n",
              "    .dataframe thead th {\n",
              "        text-align: right;\n",
              "    }\n",
              "</style>\n",
              "<table border=\"1\" class=\"dataframe\">\n",
              "  <thead>\n",
              "    <tr style=\"text-align: right;\">\n",
              "      <th></th>\n",
              "      <th>Report ID</th>\n",
              "      <th>Arrest Date</th>\n",
              "      <th>Time</th>\n",
              "      <th>Area ID</th>\n",
              "      <th>Area Name</th>\n",
              "      <th>Reporting District</th>\n",
              "      <th>Age</th>\n",
              "      <th>Sex Code</th>\n",
              "      <th>Descent Code</th>\n",
              "      <th>Charge Group Code</th>\n",
              "      <th>Charge Group Description</th>\n",
              "      <th>Arrest Type Code</th>\n",
              "      <th>Charge</th>\n",
              "      <th>Charge Description</th>\n",
              "      <th>Address</th>\n",
              "      <th>Cross Street</th>\n",
              "      <th>Location</th>\n",
              "      <th>year</th>\n",
              "    </tr>\n",
              "  </thead>\n",
              "  <tbody>\n",
              "    <tr>\n",
              "      <th>193</th>\n",
              "      <td>5485873</td>\n",
              "      <td>12/01/2018</td>\n",
              "      <td>1350.0</td>\n",
              "      <td>20.0</td>\n",
              "      <td>Olympic</td>\n",
              "      <td>2076.0</td>\n",
              "      <td>37.0</td>\n",
              "      <td>M</td>\n",
              "      <td>B</td>\n",
              "      <td>8.0</td>\n",
              "      <td>Other Assaults</td>\n",
              "      <td>M</td>\n",
              "      <td>243(B)PC</td>\n",
              "      <td>BATTERY ON PO/EMERGENCY PERSONNEL W/O INJ</td>\n",
              "      <td>PICO                         BL</td>\n",
              "      <td>BERENDO                      ST</td>\n",
              "      <td>(34.0473, -118.2936)</td>\n",
              "      <td>2018.0</td>\n",
              "    </tr>\n",
              "    <tr>\n",
              "      <th>4738</th>\n",
              "      <td>5270090</td>\n",
              "      <td>03/29/2018</td>\n",
              "      <td>931.0</td>\n",
              "      <td>8.0</td>\n",
              "      <td>West LA</td>\n",
              "      <td>836.0</td>\n",
              "      <td>53.0</td>\n",
              "      <td>M</td>\n",
              "      <td>W</td>\n",
              "      <td>6.0</td>\n",
              "      <td>Larceny</td>\n",
              "      <td>F</td>\n",
              "      <td>487(A)PC</td>\n",
              "      <td>GRAND THEFT MONEY/PROPERTY &gt; $400</td>\n",
              "      <td>PICO                         BL</td>\n",
              "      <td>PROSSER                      ST</td>\n",
              "      <td>(34.0524, -118.4248)</td>\n",
              "      <td>2018.0</td>\n",
              "    </tr>\n",
              "  </tbody>\n",
              "</table>\n",
              "</div>"
            ],
            "text/plain": [
              "     Report ID Arrest Date  ...              Location    year\n",
              "193    5485873  12/01/2018  ...  (34.0473, -118.2936)  2018.0\n",
              "4738   5270090  03/29/2018  ...  (34.0524, -118.4248)  2018.0\n",
              "\n",
              "[2 rows x 18 columns]"
            ]
          },
          "metadata": {
            "tags": []
          },
          "execution_count": 588
        }
      ]
    },
    {
      "cell_type": "code",
      "metadata": {
        "id": "6SHpRRoTX8ef"
      },
      "source": [
        "# Splitting the columns into Location columns into Latitude and Longitude\n",
        "pico_data = data_frame_with_pico['Location'].str[1:-1].str.split(',',expand = True)\n",
        "pico_data.columns = ['Latitude', 'Longitude']\n",
        "dataset_2018['Latitude'] = pico_data['Latitude']\n",
        "dataset_2018['Longitude'] = pico_data['Longitude']"
      ],
      "execution_count": 589,
      "outputs": []
    },
    {
      "cell_type": "markdown",
      "metadata": {
        "id": "BqO8PN6aU4CD"
      },
      "source": [
        "#### ***Step 2 : Remove outliers by filtering out locations where either the latitude or longitude is 2 standard deviations beyond the mean***"
      ]
    },
    {
      "cell_type": "code",
      "metadata": {
        "id": "suMzTl64YmNM",
        "outputId": "049a78c7-9847-4a28-cc52-4d039dfd9362",
        "colab": {
          "base_uri": "https://localhost:8080/",
          "height": 318
        }
      },
      "source": [
        "# identify outliers with standard deviation\n",
        "from numpy.random import seed\n",
        "from numpy.random import randn\n",
        "from numpy import mean\n",
        "from numpy import std\n",
        "Longitude = pd.to_numeric(dataset_2018['Longitude'])\n",
        "Latitude = pd.to_numeric(dataset_2018['Latitude'])\n",
        "\n",
        "# Removing values for Longitude outliers\n",
        "data_mean, data_std = mean(Longitude), std(Longitude)\n",
        "# identify outliers\n",
        "cut_off = data_std * 2\n",
        "lower, upper = data_mean - cut_off, data_mean + cut_off\n",
        "# remove outliers\n",
        "no_outliers = dataset_2018[Longitude >= lower] \n",
        "no_outliers = no_outliers[Longitude <= upper]\n",
        "\n",
        "# Removing values for Latitude outliers\n",
        "data_mean1, data_std1 = mean(Latitude), std(Latitude)\n",
        "# identify outliers\n",
        "cut_off1 = data_std1 * 2\n",
        "lower1, upper1 = data_mean1 - cut_off1, data_mean1 + cut_off1\n",
        "# remove outliers\n",
        "no_outliers = no_outliers[Latitude >= lower1] \n",
        "no_outliers = no_outliers[Latitude <= upper1]\n",
        "no_outliers.head(2)"
      ],
      "execution_count": 590,
      "outputs": [
        {
          "output_type": "stream",
          "text": [
            "/usr/local/lib/python3.6/dist-packages/ipykernel_launcher.py:16: UserWarning: Boolean Series key will be reindexed to match DataFrame index.\n",
            "  app.launch_new_instance()\n",
            "/usr/local/lib/python3.6/dist-packages/ipykernel_launcher.py:24: UserWarning: Boolean Series key will be reindexed to match DataFrame index.\n",
            "/usr/local/lib/python3.6/dist-packages/ipykernel_launcher.py:25: UserWarning: Boolean Series key will be reindexed to match DataFrame index.\n"
          ],
          "name": "stderr"
        },
        {
          "output_type": "execute_result",
          "data": {
            "text/html": [
              "<div>\n",
              "<style scoped>\n",
              "    .dataframe tbody tr th:only-of-type {\n",
              "        vertical-align: middle;\n",
              "    }\n",
              "\n",
              "    .dataframe tbody tr th {\n",
              "        vertical-align: top;\n",
              "    }\n",
              "\n",
              "    .dataframe thead th {\n",
              "        text-align: right;\n",
              "    }\n",
              "</style>\n",
              "<table border=\"1\" class=\"dataframe\">\n",
              "  <thead>\n",
              "    <tr style=\"text-align: right;\">\n",
              "      <th></th>\n",
              "      <th>Report ID</th>\n",
              "      <th>Arrest Date</th>\n",
              "      <th>Time</th>\n",
              "      <th>Area ID</th>\n",
              "      <th>Area Name</th>\n",
              "      <th>Reporting District</th>\n",
              "      <th>Age</th>\n",
              "      <th>Sex Code</th>\n",
              "      <th>Descent Code</th>\n",
              "      <th>Charge Group Code</th>\n",
              "      <th>Charge Group Description</th>\n",
              "      <th>Arrest Type Code</th>\n",
              "      <th>Charge</th>\n",
              "      <th>Charge Description</th>\n",
              "      <th>Address</th>\n",
              "      <th>Cross Street</th>\n",
              "      <th>Location</th>\n",
              "      <th>year</th>\n",
              "      <th>Latitude</th>\n",
              "      <th>Longitude</th>\n",
              "    </tr>\n",
              "  </thead>\n",
              "  <tbody>\n",
              "    <tr>\n",
              "      <th>193</th>\n",
              "      <td>5485873</td>\n",
              "      <td>12/01/2018</td>\n",
              "      <td>1350.0</td>\n",
              "      <td>20.0</td>\n",
              "      <td>Olympic</td>\n",
              "      <td>2076.0</td>\n",
              "      <td>37.0</td>\n",
              "      <td>M</td>\n",
              "      <td>B</td>\n",
              "      <td>8.0</td>\n",
              "      <td>Other Assaults</td>\n",
              "      <td>M</td>\n",
              "      <td>243(B)PC</td>\n",
              "      <td>BATTERY ON PO/EMERGENCY PERSONNEL W/O INJ</td>\n",
              "      <td>PICO                         BL</td>\n",
              "      <td>BERENDO                      ST</td>\n",
              "      <td>(34.0473, -118.2936)</td>\n",
              "      <td>2018.0</td>\n",
              "      <td>34.0473</td>\n",
              "      <td>-118.2936</td>\n",
              "    </tr>\n",
              "    <tr>\n",
              "      <th>4738</th>\n",
              "      <td>5270090</td>\n",
              "      <td>03/29/2018</td>\n",
              "      <td>931.0</td>\n",
              "      <td>8.0</td>\n",
              "      <td>West LA</td>\n",
              "      <td>836.0</td>\n",
              "      <td>53.0</td>\n",
              "      <td>M</td>\n",
              "      <td>W</td>\n",
              "      <td>6.0</td>\n",
              "      <td>Larceny</td>\n",
              "      <td>F</td>\n",
              "      <td>487(A)PC</td>\n",
              "      <td>GRAND THEFT MONEY/PROPERTY &gt; $400</td>\n",
              "      <td>PICO                         BL</td>\n",
              "      <td>PROSSER                      ST</td>\n",
              "      <td>(34.0524, -118.4248)</td>\n",
              "      <td>2018.0</td>\n",
              "      <td>34.0524</td>\n",
              "      <td>-118.4248</td>\n",
              "    </tr>\n",
              "  </tbody>\n",
              "</table>\n",
              "</div>"
            ],
            "text/plain": [
              "     Report ID Arrest Date    Time  ...    year Latitude   Longitude\n",
              "193    5485873  12/01/2018  1350.0  ...  2018.0  34.0473   -118.2936\n",
              "4738   5270090  03/29/2018   931.0  ...  2018.0  34.0524   -118.4248\n",
              "\n",
              "[2 rows x 20 columns]"
            ]
          },
          "metadata": {
            "tags": []
          },
          "execution_count": 590
        }
      ]
    },
    {
      "cell_type": "code",
      "metadata": {
        "id": "7bzlDNY1vHjY"
      },
      "source": [
        "# Let's now find the most Eastern and the most Western points\n",
        "\n",
        "# Converting the two columns to floats\n",
        "no_outliers['Longitude'] = no_outliers['Longitude'].astype(float)\n",
        "no_outliers['Latitude'] = no_outliers['Latitude'].astype(float)"
      ],
      "execution_count": 591,
      "outputs": []
    },
    {
      "cell_type": "markdown",
      "metadata": {
        "id": "kl9Eg4IsVS8V"
      },
      "source": [
        "#### ***Step 3 : Calculate the distance from the most western and eastern coordinate points.***"
      ]
    },
    {
      "cell_type": "code",
      "metadata": {
        "id": "kZSVY_Nw_bEH",
        "outputId": "44081e0a-6f40-4b63-8f5c-e1404301b500",
        "colab": {
          "base_uri": "https://localhost:8080/",
          "height": 34
        }
      },
      "source": [
        "# The most Eastern point is the point with the biggest longitute, \n",
        "# while the point with the Least longitude is the most western point\n",
        "\n",
        "min_longitude = no_outliers['Longitude'].min()\n",
        "max_longitude = no_outliers['Longitude'].max()\n",
        "print(\"The minimum longitude is \"+str(min_longitude)+ \" The longitude latitude is \" +str(max_longitude))"
      ],
      "execution_count": 592,
      "outputs": [
        {
          "output_type": "stream",
          "text": [
            "The minimum longitude is -118.453 The longitude latitude is -118.2484\n"
          ],
          "name": "stdout"
        }
      ]
    },
    {
      "cell_type": "code",
      "metadata": {
        "id": "9VIGygBdAE_D",
        "outputId": "e6bc10f1-2ac5-4195-ee7d-517c00545c7f",
        "colab": {
          "base_uri": "https://localhost:8080/",
          "height": 34
        }
      },
      "source": [
        "# Calculating the Latitude of the points\n",
        "min_long_latitude = no_outliers['Latitude'][no_outliers['Longitude'] == min_longitude]\n",
        "max_long_latitude = no_outliers['Latitude'][no_outliers['Longitude'] == max_longitude]\n",
        "print(\"The latitude of the minimum longitude is \"+str(min_long_latitude.tolist()[0])+ \" The latitude of the maximum longitude is \" +str(max_long_latitude.tolist()[0]))"
      ],
      "execution_count": 593,
      "outputs": [
        {
          "output_type": "stream",
          "text": [
            "The latitude of the minimum longitude is 34.0281 The latitude of the maximum longitude is 34.0303\n"
          ],
          "name": "stdout"
        }
      ]
    },
    {
      "cell_type": "code",
      "metadata": {
        "id": "9Q-XT3oJ9rJZ",
        "outputId": "5809798b-2066-44c3-9824-064628a6a07b",
        "colab": {
          "base_uri": "https://localhost:8080/",
          "height": 34
        }
      },
      "source": [
        "# Now that we know we most Eastern and the most Western point, we can caluculate the distance between them\n",
        "# For that we will use the function findDistance, that we use above\n",
        "length_pico = findDistance(min_long_latitude.tolist()[0],min_longitude, max_long_latitude.tolist()[0], max_longitude)\n",
        "print(\"From this estimations, the Pico Boulevard length is \"+str(length_pico))"
      ],
      "execution_count": 594,
      "outputs": [
        {
          "output_type": "stream",
          "text": [
            "From this estimations, the Pico Boulevard length is 18.856102139122424\n"
          ],
          "name": "stdout"
        }
      ]
    },
    {
      "cell_type": "markdown",
      "metadata": {
        "id": "4-0W-_7VVhvj"
      },
      "source": [
        "#### ***Step 4 : Calculate number of arrest per kilometer on the PICO boulevard***"
      ]
    },
    {
      "cell_type": "code",
      "metadata": {
        "id": "uk9YHoVfGyp_",
        "outputId": "efd62671-808e-4e9a-dddf-d889942f1232",
        "colab": {
          "base_uri": "https://localhost:8080/",
          "height": 34
        }
      },
      "source": [
        "# We have the length of the pico boulevard, we can now calculate the number of arrest by Kilometer \n",
        "# By dividing the number of arrest by the length of the Pico boulevard\n",
        "number_of_arrests_pico = no_outliers.shape[0]\n",
        "number_of_arrests_per_kilo = number_of_arrests_pico//length_pico\n",
        "print(\"The number of arrests per kilometer on the PICO boulevard is \"+str(number_of_arrests_per_kilo))"
      ],
      "execution_count": 596,
      "outputs": [
        {
          "output_type": "stream",
          "text": [
            "The number of arrests per kilometer on the PICO boulevard is 14.0\n"
          ],
          "name": "stdout"
        }
      ]
    },
    {
      "cell_type": "code",
      "metadata": {
        "id": "iby9MvqDMjXk"
      },
      "source": [
        ""
      ],
      "execution_count": 595,
      "outputs": []
    }
  ]
}